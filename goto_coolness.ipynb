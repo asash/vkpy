{
 "cells": [
  {
   "cell_type": "markdown",
   "metadata": {},
   "source": [
    "# Примеры анализа сетей при помощи networkx\n",
    "### Кто в goto самый крутой?"
   ]
  },
  {
   "cell_type": "markdown",
   "metadata": {},
   "source": [
    "networkx - библиотека python для работы с сетями. \n",
    "\n",
    "Ниже простейшие примеры работы с сетями"
   ]
  },
  {
   "cell_type": "code",
   "execution_count": 1,
   "metadata": {
    "collapsed": false
   },
   "outputs": [],
   "source": [
    "import networkx as nx"
   ]
  },
  {
   "cell_type": "markdown",
   "metadata": {},
   "source": [
    "##### Создание нового графа\n",
    "Граф - это набор всех вершин (__vertex__) и всех ребер(__edges__). \n",
    "\n",
    "Если в графе нет изолированных вершин - можно создать граф просто по очереди добавив в него все ребра\n",
    "\n",
    "Создадим два графа (\"звезда\") и (\"кольцо\")"
   ]
  },
  {
   "cell_type": "code",
   "execution_count": 2,
   "metadata": {
    "collapsed": false
   },
   "outputs": [],
   "source": [
    "graph_star = nx.graph.Graph()\n",
    "\n",
    "graph_star.add_edge(1,2)\n",
    "graph_star.add_edge(1,3)\n",
    "graph_star.add_edge(1,4)\n",
    "graph_star.add_edge(1,5)\n",
    "\n",
    "graph_cycle = nx.graph.Graph()\n",
    "graph_cycle.add_edge(1, 2)\n",
    "graph_cycle.add_edge(2, 3)\n",
    "graph_cycle.add_edge(3, 4)\n",
    "graph_cycle.add_edge(4, 5)\n",
    "graph_cycle.add_edge(5, 1)"
   ]
  },
  {
   "cell_type": "markdown",
   "metadata": {},
   "source": [
    "#### Визуализация графов\n",
    "networkx позволяет визуализировать графы прямо в ipython notebook"
   ]
  },
  {
   "cell_type": "code",
   "execution_count": 3,
   "metadata": {
    "collapsed": true
   },
   "outputs": [],
   "source": [
    "nx.draw_networkx(graph_star)"
   ]
  },
  {
   "cell_type": "code",
   "execution_count": 4,
   "metadata": {
    "collapsed": true
   },
   "outputs": [],
   "source": [
    "nx.draw_networkx(graph_cycle)"
   ]
  },
  {
   "cell_type": "markdown",
   "metadata": {},
   "source": [
    "#### Граф поинтереснее\n",
    "\n",
    "Пусть у нас будет граф \"влиятельности\". Есть 11 человек которые могут влиять друг на друга.\n",
    "Из A есть ребро в B, если A находится под влиянием B\n"
   ]
  },
  {
   "cell_type": "code",
   "execution_count": 5,
   "metadata": {
    "collapsed": true
   },
   "outputs": [],
   "source": [
    "graph = nx.digraph.DiGraph(directed=True)\n",
    "graph.add_edge(2, 3)\n",
    "graph.add_edge(3, 2)\n",
    "graph.add_edge(4, 1)\n",
    "graph.add_edge(4, 2)\n",
    "graph.add_edge(5, 2)\n",
    "graph.add_edge(5, 4)\n",
    "graph.add_edge(5, 6)\n",
    "graph.add_edge(6, 5)\n",
    "graph.add_edge(7, 2)\n",
    "graph.add_edge(7, 5)\n",
    "graph.add_edge(8, 2)\n",
    "graph.add_edge(8, 5)\n",
    "graph.add_edge(9, 2)\n",
    "graph.add_edge(9, 5) \n",
    "graph.add_edge(10, 5)\n",
    "graph.add_edge(11, 5)\n",
    "\n",
    "nx.draw_networkx(graph)"
   ]
  },
  {
   "cell_type": "markdown",
   "metadata": {},
   "source": [
    "### page rank\n",
    "\n",
    "Предложен гуглом для определения веса web-страниц в поисковой выдаче\n"
   ]
  },
  {
   "cell_type": "code",
   "execution_count": 6,
   "metadata": {
    "collapsed": true
   },
   "outputs": [],
   "source": [
    "weights = nx.pagerank(graph)\n",
    "node_size = [weights[node]*5000 for node in graph.nodes()]\n",
    "nx.draw_networkx(graph, node_size=node_size)"
   ]
  },
  {
   "cell_type": "markdown",
   "metadata": {},
   "source": [
    "#### Другие меры \"центральности\"\n",
    "\n",
    "nx.betweeness_centrality\n",
    "\n",
    "nx.harmonic_centrality\n",
    "\n",
    "nx.katz_centrality\n",
    "\n",
    "nx.degree_centrality\n",
    "\n",
    "nx.eigenvector_centrality\n",
    "\n",
    "###### На самом деле pagerank является самой популярной, но не самой лучшей метрикой. \n",
    "Мы будем пользоваться harmonic_centrality"
   ]
  },
  {
   "cell_type": "markdown",
   "metadata": {},
   "source": [
    "##### Кто самый крутой в GoTo?"
   ]
  },
  {
   "cell_type": "code",
   "execution_count": 7,
   "metadata": {
    "collapsed": false
   },
   "outputs": [],
   "source": [
    "import vk"
   ]
  },
  {
   "cell_type": "code",
   "execution_count": 8,
   "metadata": {
    "collapsed": false
   },
   "outputs": [],
   "source": [
    "GOTO_GROUP_ID=80270762\n",
    "users = vk.get_group_subscribers(GOTO_GROUP_ID)\n",
    "users_set = set(users)"
   ]
  },
  {
   "cell_type": "code",
   "execution_count": 9,
   "metadata": {
    "collapsed": false
   },
   "outputs": [],
   "source": [
    "friends = vk.get_friends_map(users)"
   ]
  },
  {
   "cell_type": "code",
   "execution_count": 11,
   "metadata": {
    "collapsed": false
   },
   "outputs": [
    {
     "name": "stdout",
     "output_type": "stream",
     "text": [
      "631\n"
     ]
    }
   ],
   "source": [
    "goto_graph = nx.graph.Graph()\n",
    "for i in range(len(users)):\n",
    "    user = users[i]\n",
    "    for friend in friends[i]:\n",
    "        if friend in users:\n",
    "            goto_graph.add_edge(user, friend)\n",
    "\n"
   ]
  },
  {
   "cell_type": "code",
   "execution_count": 13,
   "metadata": {
    "collapsed": false
   },
   "outputs": [
    {
     "name": "stdout",
     "output_type": "stream",
     "text": [
      "nodes 631\n",
      "edges 3075\n"
     ]
    }
   ],
   "source": [
    "print(\"nodes\", len(goto_graph.nodes()))\n",
    "print(\"edges\", len(goto_graph.edges()))\n"
   ]
  },
  {
   "cell_type": "code",
   "execution_count": 58,
   "metadata": {
    "collapsed": false
   },
   "outputs": [],
   "source": [
    "coolness =  nx.harmonic_centrality(goto_graph)\n"
   ]
  },
  {
   "cell_type": "code",
   "execution_count": 59,
   "metadata": {
    "collapsed": false
   },
   "outputs": [],
   "source": [
    "user_info = list(vk.get_users_info(users))\n",
    "user_info_dict = {}\n",
    "for user in user_info:\n",
    "    user_info_dict[user['uid']] = user"
   ]
  },
  {
   "cell_type": "code",
   "execution_count": 60,
   "metadata": {
    "collapsed": false
   },
   "outputs": [
    {
     "name": "stdout",
     "output_type": "stream",
     "text": [
      "1       55783291\t          365.900\tАлёна Ильина\n",
      "2      169907505\t          310.467\tАндрей Творожков\n",
      "3       59223044\t          303.667\tТимофей Шунин\n",
      "4        1286959\t          299.050\tАлексей Перепелкин\n",
      "5       83848730\t          296.300\tСофья Оронова\n",
      "6        7980360\t          295.000\tRoct Bb\n",
      "7         165190\t          294.500\tФёдор Фальковский\n",
      "8      183987469\t          292.583\tНастя Черемисина\n",
      "9      106157229\t          288.200\tОлег Корниенко\n",
      "10       25735778\t          287.383\tНадежда Янушкевич\n",
      "11      114776804\t          286.967\tАлена Есенина\n",
      "12      215186179\t          284.917\tМария Андреева\n",
      "13      111030096\t          282.633\tМихаил Юрьевич\n",
      "14      256159435\t          282.333\tСергей Филиппов\n",
      "15      164920337\t          282.217\tГеоргий Хазиев\n",
      "16      154044544\t          281.500\tАртём Мельников\n",
      "17       48655021\t          278.750\tДаниил Никольский\n",
      "18       18195994\t          277.017\tАлександр Букин\n",
      "19       87576787\t          274.367\tЕвгений Кабо\n",
      "20       85442227\t          274.317\tДима Долгополов\n"
     ]
    }
   ],
   "source": [
    "cnt = 0\n",
    "for user in sorted(coolness.keys(), key=lambda x: -coolness[x])[:20]:\n",
    "    cnt += 1\n",
    "    print(\"{}{:15}\\t{:17.3f}\\t{} {}\".format(cnt, user, coolness[user], user_info_dict[user]['first_name'], \n",
    "                                   user_info_dict[user]['last_name']))"
   ]
  },
  {
   "cell_type": "code",
   "execution_count": null,
   "metadata": {
    "collapsed": true
   },
   "outputs": [],
   "source": []
  }
 ],
 "metadata": {
  "kernelspec": {
   "display_name": "Python 3",
   "language": "python",
   "name": "python3"
  },
  "language_info": {
   "codemirror_mode": {
    "name": "ipython",
    "version": 3
   },
   "file_extension": ".py",
   "mimetype": "text/x-python",
   "name": "python",
   "nbconvert_exporter": "python",
   "pygments_lexer": "ipython3",
   "version": "3.5.2+"
  }
 },
 "nbformat": 4,
 "nbformat_minor": 1
}
